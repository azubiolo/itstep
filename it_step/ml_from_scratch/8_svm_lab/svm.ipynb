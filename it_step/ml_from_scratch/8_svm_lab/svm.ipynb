{
 "cells": [
  {
   "cell_type": "markdown",
   "metadata": {
    "deletable": true,
    "editable": true
   },
   "source": [
    "# Support Vector Machines\n",
    "## Course recap\n",
    "This lab consists in implementing the **Support Vector Machines** (SVM) algorithm. \n",
    "\n",
    "Given a training set $ D = \\left\\{ \\left(x^{(i)}, y^{(i)}\\right), x^{(i)} \\in \\mathcal{X}, y^{(i)} \\in \\mathcal{Y}, i \\in \\{1, \\dots, n \\}  \\right\\}$, where $\\mathcal{Y} = \\{ 1, \\dots, k\\}$ . Recall (from lecture 7), SVM aims at minimizing the following cost function $J$:\n",
    "$$\n",
    "\\begin{split}\n",
    "J(\\theta_1, \\theta_2, \\dots, \\theta_k) \n",
    "\t&= \\sum_{i = 1}^n L_i \\\\\n",
    "\t&= \\sum_{i = 1}^n \\sum_{j \\neq y_i} \\max(0, \\theta_j^Tx^{(i)} - \\theta_{y^{(i)}}^T x^{(i)} + \\Delta)\n",
    "\\end{split}\n",
    "$$"
   ]
  },
  {
   "cell_type": "markdown",
   "metadata": {
    "deletable": true,
    "editable": true
   },
   "source": [
    "## Defining the training set\n",
    "Let us define variables `X` and `Y` that will contain the features $\\mathcal{X}$ and labels $\\mathcal{Y}$ of the training set. Again, we will be having an intercept $x_0^{(i)}$."
   ]
  },
  {
   "cell_type": "code",
   "execution_count": 1,
   "metadata": {
    "collapsed": false,
    "deletable": true,
    "editable": true
   },
   "outputs": [],
   "source": [
    "k_classes = 2\n",
    "X = [[1., 1.5, 0.2], [1., 0.3, 1.2], [1, 1.6, 0.4], [1., 1.3, 0.25], [1., 0.5, 1.12]]\n",
    "Y = [1, 2, 1, 1, 2]"
   ]
  },
  {
   "cell_type": "markdown",
   "metadata": {
    "deletable": true,
    "editable": true
   },
   "source": [
    "Let us take a look at the data in 2D (we ignore the intercept which is constantly equal to 1)."
   ]
  },
  {
   "cell_type": "code",
   "execution_count": 2,
   "metadata": {
    "collapsed": false,
    "deletable": true,
    "editable": true
   },
   "outputs": [
    {
     "data": {
      "image/png": "[encoded data removed]",
      "text/plain": [
       "<matplotlib.figure.Figure at 0x7f8cc0449780>"
      ]
     },
     "metadata": {},
     "output_type": "display_data"
    }
   ],
   "source": [
    "%matplotlib inline\n",
    "import matplotlib.pyplot as plt\n",
    "\n",
    "plt.figure()\n",
    "X1 = [x[1] for x in X]\n",
    "X2 = [x[2] for x in X]\n",
    "plt.scatter(X1, X2, c=Y) # plot x1, x2, color is defined by the label y\n",
    "plt.show()"
   ]
  },
  {
   "cell_type": "markdown",
   "metadata": {
    "deletable": true,
    "editable": true
   },
   "source": [
    "The data was generated so that we have two quite distinct classes. This is usually not the case in reality, and for this reason we will see what happens when outliers are implemented (see homework below)."
   ]
  },
  {
   "cell_type": "markdown",
   "metadata": {
    "deletable": true,
    "editable": true
   },
   "source": [
    "## Prediction function\n",
    "**Exercise**: Define a function `score` that takes as parameter *the feature vector* $x$ as well as *a model* $\\theta$ and outputs the score:\n",
    "$$ h(x) = \\theta^T x = \\sum_{j = 0}^d \\theta_j x_j$$"
   ]
  },
  {
   "cell_type": "code",
   "execution_count": 3,
   "metadata": {
    "collapsed": false,
    "deletable": true,
    "editable": true
   },
   "outputs": [],
   "source": [
    "def score(x, theta):\n",
    "    d = len(x)\n",
    "    thetaTx = 0\n",
    "    for idx in range(d):\n",
    "        thetaTx += x[idx] * theta[idx]\n",
    "    return thetaTx"
   ]
  },
  {
   "cell_type": "markdown",
   "metadata": {
    "deletable": true,
    "editable": true
   },
   "source": [
    "## Defining the cost function\n",
    "### Cost function on a single sample\n",
    "**Exercise**: Define a function `cost_function` that takes as parameter a sample (*the actual label* $y$, the feature vector $x$), the $\\theta$s for each classes as well as $\\Delta$ and returns the value of the cost function for this sample. \n",
    "\n",
    "**Hint**: Recall from lecture 7 that it is given by:\n",
    "$$ L_i = \\sum_{j \\neq y_i} \\max(0, \\theta_j^Tx - \\theta_{y}^T x + \\Delta) $$"
   ]
  },
  {
   "cell_type": "code",
   "execution_count": 4,
   "metadata": {
    "collapsed": false,
    "deletable": true,
    "editable": true
   },
   "outputs": [],
   "source": [
    "def cost_function(x, y, thetas, delta):\n",
    "    thetayTx = predict(x, thetas[y])\n",
    "    loss = 0\n",
    "    d = len(x)\n",
    "    for j in range(d):\n",
    "        if j is not y:\n",
    "            print(\"x \" + str(x))\n",
    "            print(\"thetas \" + str(thetas))\n",
    "            thetajTx = predict(x, thetas[idx])\n",
    "            loss += max(0, thetajTx - thetayTx + delta)\n",
    "    return loss"
   ]
  },
  {
   "cell_type": "markdown",
   "metadata": {
    "deletable": true,
    "editable": true
   },
   "source": [
    "Now we are able to compute the loss for a single training sample, we can get the total cost.\n",
    "\n",
    "**Exercise**: Define a function `cost_function_total` that will compute the total cost function given by\n",
    "$$ J = L_i = \\sum_{i = 1}^n \\sum_{j \\neq y_i} \\max(0, \\theta_j^Tx^{(i)} - \\theta_{y^{(i)}}^T x^{(i)} + \\Delta) $$"
   ]
  },
  {
   "cell_type": "code",
   "execution_count": 5,
   "metadata": {
    "collapsed": true,
    "deletable": true,
    "editable": true
   },
   "outputs": [],
   "source": [
    "def cost_function_total(X, Y, thetas, delta):\n",
    "    cost = 0 # initialize the cost with 0\n",
    "    n = len(Y)\n",
    "    for i in range(n): # iterate over the training set\n",
    "        x = X[i] # get the ith feature vector\n",
    "        y = Y[i] # get the ith label\n",
    "        cost += cost_function(x, y, thetas, delta) # add the cost of the current sample to the total cost\n",
    "    return cost"
   ]
  },
  {
   "cell_type": "code",
   "execution_count": 6,
   "metadata": {
    "collapsed": true,
    "deletable": true,
    "editable": true
   },
   "outputs": [],
   "source": [
    "def initialize_thetas(X, k_classes):\n",
    "    d = len(X[1])\n",
    "    theta = [0] * d\n",
    "    return [theta] * k_classes"
   ]
  },
  {
   "cell_type": "code",
   "execution_count": 7,
   "metadata": {
    "collapsed": false,
    "deletable": true,
    "editable": true
   },
   "outputs": [],
   "source": [
    "thetas_0 = initialize_thetas(X, 2)"
   ]
  },
  {
   "cell_type": "markdown",
   "metadata": {
    "deletable": true,
    "editable": true
   },
   "source": [
    "Recall that the prediction on a feature vector $x$ is given by the value of $j$ that maximizes the score $\\theta_j^T x$.\n",
    "\n",
    "**Exercise**: Define a function `predict` which takes a feature vector `x` as well as the $\\theta_j$s and outputs the predicted class $\\hat{y}$ which is the value of $j$ maximizing the score.\n",
    "\n",
    "**Hint**: We have defined a `score` function for this purpose."
   ]
  },
  {
   "cell_type": "code",
   "execution_count": 8,
   "metadata": {
    "collapsed": false,
    "deletable": true,
    "editable": true
   },
   "outputs": [],
   "source": [
    "def predict(x, thetas):\n",
    "    k_classes = len(thetas)\n",
    "    prediction = 0\n",
    "    highest_score = score(x, thetas[prediction]) # initialize with the first class\n",
    "    for idx_class in range(k_classes):\n",
    "        class_score = score(x, thetas[idx_class])\n",
    "        if class_score > highest_score:\n",
    "            prediction = idx_class\n",
    "    return prediction + 1"
   ]
  },
  {
   "cell_type": "code",
   "execution_count": 9,
   "metadata": {
    "collapsed": false,
    "deletable": true,
    "editable": true
   },
   "outputs": [
    {
     "data": {
      "text/plain": [
       "1"
      ]
     },
     "execution_count": 9,
     "metadata": {},
     "output_type": "execute_result"
    }
   ],
   "source": [
    "predict(X[0], thetas_0)"
   ]
  },
  {
   "cell_type": "markdown",
   "metadata": {
    "deletable": true,
    "editable": true
   },
   "source": [
    "## Gradient\n",
    "\n",
    "We have just defined everything we need to make the prediction and compute the loss for the SVM problem. As usual, we want to minimize this loss. The **gradient descent** works well in this case and in order to apply it, we need to compute the gradient.\n",
    "\n",
    "Recall that we need to compute a gradient per class as we have $k$ vectors $\\theta_j$. The gradient for a sample $x, y$ is given by the following formulas:\n",
    "- if $j \\neq y$:\n",
    "$$\n",
    "\\nabla_{\\theta_j} L = \n",
    "\t\\begin{cases}\n",
    "\tx \\quad \\text{if} \\quad \\theta_j^Tx - \\theta_{y}^Tx + \\Delta > 0 \\\\\n",
    "\t0 \\quad \\text{otherwise.}\n",
    "\t\\end{cases}\n",
    "$$\n",
    "- if $j = y$:\n",
    "$$\n",
    "\\nabla_{\\theta_y} L = px\n",
    "$$\n",
    "where $p$ is the **number of times the desired margin is not satisfied**, that is, the number of $j \\neq y$ such that $\\theta_j^Tx - \\theta_{y}^Tx + \\Delta > 0$"
   ]
  },
  {
   "cell_type": "code",
   "execution_count": 10,
   "metadata": {
    "collapsed": false,
    "deletable": true,
    "editable": true
   },
   "outputs": [],
   "source": [
    "def gradients(x, y, thetas, delta):\n",
    "    d = len(x)\n",
    "    k_classes = len(thetas)\n",
    "    predicted_class = predict(x, thetas)\n",
    "    grads = [[0] * d] * k_classes # initialize a list of k_class gradients with zeros everywhere\n",
    "    for idx_class in range(k_classes): # iterate over all the classes to compute the gradient for each class\n",
    "        # there are 2 formulas: one for the true class (given by 'y') and another one for the other classes\n",
    "        if idx_class + 1 == y: # if idx_class is equal to the actual class\n",
    "            p = 0\n",
    "            for j in range(k_classes):\n",
    "                if j + 1 != y: # are counting over the classes different than the actual class\n",
    "                    if score(x, thetas[j]) - score(x, thetas[y - 1]) + delta > 0:\n",
    "                        p += 1\n",
    "            for idx in range(d):\n",
    "                grads[idx_class][idx] = - p * x[idx]\n",
    "        else: # if idx_class is not the actual class\n",
    "            if score(x, thetas[idx_class]) - score(x, thetas[y - 1]) + delta > 0:\n",
    "                for idx in range(d):\n",
    "                    grads[idx_class][idx] = x[idx]\n",
    "            # we do not need an else statement here because the gradient would be equal to 0 in this case, \n",
    "            # and the gradient has been initialized with zeros\n",
    "    return grads"
   ]
  },
  {
   "cell_type": "code",
   "execution_count": 11,
   "metadata": {
    "collapsed": false,
    "deletable": true,
    "editable": true
   },
   "outputs": [
    {
     "name": "stdout",
     "output_type": "stream",
     "text": [
      "[[1.0, 1.5, 0.2], [1.0, 1.5, 0.2]]\n"
     ]
    }
   ],
   "source": [
    "# to delete\n",
    "print(gradients(X[0], Y[0], thetas_0, 4.0))"
   ]
  },
  {
   "cell_type": "markdown",
   "metadata": {
    "deletable": true,
    "editable": true
   },
   "source": [
    "The last quantity needed in order to apply the gradient descent is the total gradient (if we want to apply a batch gradient descent, the gradient for a single sample is enough in the stochastic gradient descent case is enough).\n",
    "\n",
    "To compute it, we just need to sum the gradients for all the samples within the training set.\n",
    "\n",
    "**Exercise**: Implement a function `gradient_total` that takes as inputs a set of feature vectors $X$, a set of labels $Y$, values for the $\\theta_j$s as well as the hyperparamter $\\Delta$ and outputs the gradient of $J$."
   ]
  },
  {
   "cell_type": "code",
   "execution_count": 12,
   "metadata": {
    "collapsed": false,
    "deletable": true,
    "editable": true
   },
   "outputs": [],
   "source": [
    "# For the sake of clarity, we first define a function that sums vectors elementwise\n",
    "def sum_vectors(x1, x2):\n",
    "    d = len(x1)\n",
    "    sum_vector = x1\n",
    "    for idx in range(d):\n",
    "        sum_vector[idx] += x2[idx]\n",
    "    return sum_vector\n",
    "\n",
    "def gradient_total(X, Y, thetas, delta):\n",
    "    n = len(Y) # number of training samples\n",
    "    d = len(X[1])\n",
    "    k_classes = len(thetas)\n",
    "    grads_sum = [[0] * d] * k_classes \n",
    "    for i in range(n):\n",
    "        x = X[i]\n",
    "        y = Y[i]\n",
    "        grads = gradients(x, y, thetas, delta) # get the gradient for the current sample\n",
    "        for j in range(k_classes):\n",
    "            grads_sum[j] = sum_vectors(grads[j], grads_sum[j]) # add it to the total gradients\n",
    "    return grads_sum"
   ]
  },
  {
   "cell_type": "code",
   "execution_count": 13,
   "metadata": {
    "collapsed": false,
    "deletable": true,
    "editable": true,
    "scrolled": false
   },
   "outputs": [
    {
     "data": {
      "text/plain": [
       "[[13.0, 30.1, -5.420000000000001], [13.0, 30.1, -5.420000000000001]]"
      ]
     },
     "execution_count": 13,
     "metadata": {},
     "output_type": "execute_result"
    }
   ],
   "source": [
    "# to delete\n",
    "gradient_total(X, Y, thetas_0, 4.0)"
   ]
  },
  {
   "cell_type": "markdown",
   "metadata": {
    "deletable": true,
    "editable": true
   },
   "source": [
    "Now that we have the gradient, we can apply the gradient descent algorithm.\n",
    "\n",
    "**Exercise**: Implement a function `gradient_descent` that takes as parameter the training set $(X, Y)$, the hyperparameter $\\Delta$ as well as a learning rate and applied the gradient descent algorithm to the SVM case.\n",
    "\n",
    "**Hint**: Feel free to get back to the lectures to recall the gradient descent update."
   ]
  },
  {
   "cell_type": "code",
   "execution_count": 14,
   "metadata": {
    "collapsed": false,
    "deletable": true,
    "editable": true
   },
   "outputs": [],
   "source": [
    "# For the sake of readability, we define a function axpb (that stands for a x plus b) that outputs a * x + b \n",
    "# where a is a scalar and x and b are vectors\n",
    "def axpb(a, x, b):\n",
    "    # x and b should have the same size, a is a scalar\n",
    "    d = len(x)\n",
    "    sum_vector = b\n",
    "    for idx in range(d):\n",
    "        sum_vector[idx] += a * x[idx]\n",
    "    return sum_vector\n",
    "\n",
    "def gradient_descent(X, Y, delta, learning_rate):\n",
    "    k_classes = len(set(Y))\n",
    "    thetas = initialize_thetas(X, k_classes)\n",
    "    for i_iter in range(5):\n",
    "        grads = gradient_total(X, Y, thetas, delta)\n",
    "        for j in range(k_classes):\n",
    "            thetas[j] = axpb(-learning_rate, grads[j], thetas[j])\n",
    "        print(\"X \" + str(X))\n",
    "        cost = cost_function_total(X, Y, thetas, delta)\n",
    "        print(\"iteration \" + str(i_iter) + \", cost = \" + str(cost))\n",
    "    return thetas"
   ]
  },
  {
   "cell_type": "markdown",
   "metadata": {
    "deletable": true,
    "editable": true
   },
   "source": [
    "## Homework\n",
    "At this point, you should be able to guess the questions for the homework and solve them.\n",
    "As for the OLS case, the questions are:\n",
    "- Define initial vectors $\\theta_j$s (for example with only zeros) and apply the gradient descent to the simple data set we have defined above. Do not forget to play with the learning rate and well as $\\Delta$\n",
    "- Do the same with the stochastic gradient descent version.\n",
    "- Observe how the space is partitionned after having trained the SVM model.\n",
    "- For both solutions above, observe the loss function in 2D, and observe the path followed by the $\\theta$ values over time.\n",
    "- What does an outlier look like in the classification case? Add an outlier to the training set, and run the SVM algorithm to it. What issue do we observe? Propose a solution to overcome this issue and implement it."
   ]
  }
 ],
 "metadata": {
  "kernelspec": {
   "display_name": "Python 3",
   "language": "python",
   "name": "python3"
  },
  "language_info": {
   "codemirror_mode": {
    "name": "ipython",
    "version": 3
   },
   "file_extension": ".py",
   "mimetype": "text/x-python",
   "name": "python",
   "nbconvert_exporter": "python",
   "pygments_lexer": "ipython3",
   "version": "3.5.2"
  }
 },
 "nbformat": 4,
 "nbformat_minor": 0
}
