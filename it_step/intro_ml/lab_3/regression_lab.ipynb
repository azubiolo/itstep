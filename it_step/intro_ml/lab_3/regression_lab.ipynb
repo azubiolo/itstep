{
 "metadata": {
  "kernelspec": {
   "display_name": "Python 2",
   "language": "python",
   "name": "python2"
  },
  "language_info": {
   "codemirror_mode": {
    "name": "ipython",
    "version": 2
   },
   "file_extension": ".py",
   "mimetype": "text/x-python",
   "name": "python",
   "nbconvert_exporter": "python",
   "pygments_lexer": "ipython2",
   "version": "2.7.12"
  },
  "name": "",
  "signature": "sha256:3b9fa3f84589f622a0428382a1ab0b35b6697a60f09ac35ee8744d7eb16bf5cb"
 },
 "nbformat": 3,
 "nbformat_minor": 0,
 "worksheets": [
  {
   "cells": [
    {
     "cell_type": "markdown",
     "metadata": {},
     "source": [
      "# Introduction to Machine Learning with scikit-learn\n",
      "## Lab 3: Regression\n",
      "The goal of this lab session is to discover a few regression tools from scikit-learn. As for the classification lab, we will start with generated data to have a more visual idea of the results."
     ]
    },
    {
     "cell_type": "code",
     "collapsed": false,
     "input": [
      "%matplotlib inline\n",
      "import warnings\n",
      "warnings.filterwarnings(\"ignore\", category=DeprecationWarning) "
     ],
     "language": "python",
     "metadata": {},
     "outputs": [],
     "prompt_number": 2
    },
    {
     "cell_type": "markdown",
     "metadata": {},
     "source": [
      "### Generating the data\n",
      "As we did during the classification lab, we generate some data points uniformly using `np.random.rand`. In this example, we will generate a set of data points $x \\in [0, 1]$ and their images $y$ under the function $f$ defined by\n",
      "$$ y = f(x) = \\cos \\left( \\dfrac{3\\pi}{2} x \\right)$$\n",
      "which will be modeled by `my_function`.\n",
      "\n",
      "We also add some noise following a Gaussian distribution (`np.random.randn`) centered in 0."
     ]
    },
    {
     "cell_type": "code",
     "collapsed": false,
     "input": [
      "import numpy as np\n",
      "\n",
      "np.random.seed(0)\n",
      "\n",
      "n_samples = 30\n",
      "\n",
      "def my_function(X):\n",
      "    return np.cos(1.5 * np.pi * X)\n",
      "    \n",
      "X = np.random.rand(n_samples)\n",
      "y = my_function(X) + np.random.randn(n_samples) * 0.1"
     ],
     "language": "python",
     "metadata": {},
     "outputs": [],
     "prompt_number": 3
    },
    {
     "cell_type": "code",
     "collapsed": false,
     "input": [
      "X.shape"
     ],
     "language": "python",
     "metadata": {},
     "outputs": [
      {
       "metadata": {},
       "output_type": "pyout",
       "prompt_number": 4,
       "text": [
        "(30,)"
       ]
      }
     ],
     "prompt_number": 4
    },
    {
     "cell_type": "markdown",
     "metadata": {},
     "source": [
      "Let us also generate the testing points needed to plot the result of our prediction. In this case, we generate 100 points uniformly spread between 0 and 1 using `np.linspace`."
     ]
    },
    {
     "cell_type": "code",
     "collapsed": false,
     "input": [
      "X_test = np.linspace(0, 1, 100)"
     ],
     "language": "python",
     "metadata": {},
     "outputs": [],
     "prompt_number": 5
    },
    {
     "cell_type": "code",
     "collapsed": false,
     "input": [
      "X_test"
     ],
     "language": "python",
     "metadata": {
      "scrolled": true
     },
     "outputs": [
      {
       "metadata": {},
       "output_type": "pyout",
       "prompt_number": 6,
       "text": [
        "array([ 0.        ,  0.01010101,  0.02020202,  0.03030303,  0.04040404,\n",
        "        0.05050505,  0.06060606,  0.07070707,  0.08080808,  0.09090909,\n",
        "        0.1010101 ,  0.11111111,  0.12121212,  0.13131313,  0.14141414,\n",
        "        0.15151515,  0.16161616,  0.17171717,  0.18181818,  0.19191919,\n",
        "        0.2020202 ,  0.21212121,  0.22222222,  0.23232323,  0.24242424,\n",
        "        0.25252525,  0.26262626,  0.27272727,  0.28282828,  0.29292929,\n",
        "        0.3030303 ,  0.31313131,  0.32323232,  0.33333333,  0.34343434,\n",
        "        0.35353535,  0.36363636,  0.37373737,  0.38383838,  0.39393939,\n",
        "        0.4040404 ,  0.41414141,  0.42424242,  0.43434343,  0.44444444,\n",
        "        0.45454545,  0.46464646,  0.47474747,  0.48484848,  0.49494949,\n",
        "        0.50505051,  0.51515152,  0.52525253,  0.53535354,  0.54545455,\n",
        "        0.55555556,  0.56565657,  0.57575758,  0.58585859,  0.5959596 ,\n",
        "        0.60606061,  0.61616162,  0.62626263,  0.63636364,  0.64646465,\n",
        "        0.65656566,  0.66666667,  0.67676768,  0.68686869,  0.6969697 ,\n",
        "        0.70707071,  0.71717172,  0.72727273,  0.73737374,  0.74747475,\n",
        "        0.75757576,  0.76767677,  0.77777778,  0.78787879,  0.7979798 ,\n",
        "        0.80808081,  0.81818182,  0.82828283,  0.83838384,  0.84848485,\n",
        "        0.85858586,  0.86868687,  0.87878788,  0.88888889,  0.8989899 ,\n",
        "        0.90909091,  0.91919192,  0.92929293,  0.93939394,  0.94949495,\n",
        "        0.95959596,  0.96969697,  0.97979798,  0.98989899,  1.        ])"
       ]
      }
     ],
     "prompt_number": 6
    },
    {
     "cell_type": "markdown",
     "metadata": {},
     "source": [
      "With this, we can plot $f$ and the generated points."
     ]
    },
    {
     "cell_type": "code",
     "collapsed": false,
     "input": [
      "import matplotlib.pyplot as plt\n",
      "plt.plot(X_test, my_function(X_test), label=\"True function\")\n",
      "plt.scatter(X, y, label=\"Samples\")\n",
      "plt.legend(loc=\"best\")"
     ],
     "language": "python",
     "metadata": {
      "scrolled": true
     },
     "outputs": [
      {
       "metadata": {},
       "output_type": "pyout",
       "prompt_number": 7,
       "text": [
        "<matplotlib.legend.Legend at 0x7ff2a403ebd0>"
       ]
      },
      {
       "metadata": {},
       "output_type": "display_data",
       "png": "[encoded data removed]",
       "text": [
        "<matplotlib.figure.Figure at 0x7ff2a40a51d0>"
       ]
      }
     ],
     "prompt_number": 7
    },
    {
     "cell_type": "markdown",
     "metadata": {},
     "source": [
      "Note that the samples are not on the function curve because of the additive noise."
     ]
    },
    {
     "cell_type": "markdown",
     "metadata": {},
     "source": [
      "###\u00a0Linear regression\n",
      "Recall that the linear regression with a squared loss aims at finding the solution of the following optimization problem:\n",
      "$$\\min_w \\sum_i \\left(w^T \\phi\\left(x^{(i)}\\right) - y^{(i)}\\right)^2$$\n",
      "Linear regression is implemented in `sklearn.linear_model.LinearRegression`. "
     ]
    },
    {
     "cell_type": "code",
     "collapsed": false,
     "input": [
      "from sklearn.linear_model import LinearRegression\n",
      "linear_regression = LinearRegression()"
     ],
     "language": "python",
     "metadata": {},
     "outputs": [],
     "prompt_number": 8
    },
    {
     "cell_type": "code",
     "collapsed": false,
     "input": [
      "my_regression = linear_regression.fit(X[:, np.newaxis], y)"
     ],
     "language": "python",
     "metadata": {
      "scrolled": true
     },
     "outputs": [],
     "prompt_number": 9
    },
    {
     "cell_type": "code",
     "collapsed": false,
     "input": [
      "X_test = np.linspace(0, 1, 100)\n",
      "plt.plot(X_test, my_regression.predict(X_test[:, np.newaxis]), label=\"Model\")\n",
      "# my_regression.predict(X_test[:, np.newaxis] = y_test (the prediction of X_test)\n",
      "plt.plot(X_test, my_function(X_test), label=\"True function\")\n",
      "plt.scatter(X, y, label=\"Samples\")\n",
      "plt.xlabel(\"x\")\n",
      "plt.ylabel(\"y\")\n",
      "plt.xlim((0, 1))\n",
      "plt.ylim((-2, 2))\n",
      "plt.legend(loc=\"best\")"
     ],
     "language": "python",
     "metadata": {
      "scrolled": true
     },
     "outputs": [
      {
       "metadata": {},
       "output_type": "pyout",
       "prompt_number": 10,
       "text": [
        "<matplotlib.legend.Legend at 0x7ff295e13e10>"
       ]
      },
      {
       "metadata": {},
       "output_type": "display_data",
       "png": "[encoded data removed]",
       "text": [
        "<matplotlib.figure.Figure at 0x7ff295e92c10>"
       ]
      }
     ],
     "prompt_number": 10
    },
    {
     "cell_type": "markdown",
     "metadata": {},
     "source": [
      "###\u00a0Defining polynomial features\n",
      "The previous example is a simple linear regression and as we can see, the trained model fits the samples (and $f$) quite poorly. As we have seen during the lectures, we can use polynomial features to obtain a more accurate model.\n",
      "\n",
      "Formally, it consists in defining a polynomial kernel $\\phi$ such that of degree $d$ such that, for each $x\u00a0\\in [0, 1]$, we have\n",
      "$$\\phi(x) = \\left[1, x, x^2, \\dots, x^d\\right]$$\n",
      "In sklearn, this can be achieved with the `sklearn.preprocessing.PolynomialFeatures` function:"
     ]
    },
    {
     "cell_type": "code",
     "collapsed": false,
     "input": [
      "from sklearn.preprocessing import PolynomialFeatures\n",
      "polynomial_features = PolynomialFeatures(degree=1)\n",
      "polynomial_X = polynomial_features.fit_transform(X[:, np.newaxis])"
     ],
     "language": "python",
     "metadata": {},
     "outputs": [],
     "prompt_number": 11
    },
    {
     "cell_type": "markdown",
     "metadata": {},
     "source": [
      "Note that here we use `np.newaxis` to create an array of single elements. Applying `polynomial_features.fit_transform` to `X` will not lead to the desired result (try it by yourself)."
     ]
    },
    {
     "cell_type": "code",
     "collapsed": false,
     "input": [
      "X[:, np.newaxis]"
     ],
     "language": "python",
     "metadata": {},
     "outputs": [
      {
       "metadata": {},
       "output_type": "pyout",
       "prompt_number": 12,
       "text": [
        "array([[ 0.5488135 ],\n",
        "       [ 0.71518937],\n",
        "       [ 0.60276338],\n",
        "       [ 0.54488318],\n",
        "       [ 0.4236548 ],\n",
        "       [ 0.64589411],\n",
        "       [ 0.43758721],\n",
        "       [ 0.891773  ],\n",
        "       [ 0.96366276],\n",
        "       [ 0.38344152],\n",
        "       [ 0.79172504],\n",
        "       [ 0.52889492],\n",
        "       [ 0.56804456],\n",
        "       [ 0.92559664],\n",
        "       [ 0.07103606],\n",
        "       [ 0.0871293 ],\n",
        "       [ 0.0202184 ],\n",
        "       [ 0.83261985],\n",
        "       [ 0.77815675],\n",
        "       [ 0.87001215],\n",
        "       [ 0.97861834],\n",
        "       [ 0.79915856],\n",
        "       [ 0.46147936],\n",
        "       [ 0.78052918],\n",
        "       [ 0.11827443],\n",
        "       [ 0.63992102],\n",
        "       [ 0.14335329],\n",
        "       [ 0.94466892],\n",
        "       [ 0.52184832],\n",
        "       [ 0.41466194]])"
       ]
      }
     ],
     "prompt_number": 12
    },
    {
     "cell_type": "markdown",
     "metadata": {},
     "source": [
      "So far, we have just created a feature of degree 1, which won't change much the data we have. However, the shape of the polynomial features has changed:"
     ]
    },
    {
     "cell_type": "code",
     "collapsed": false,
     "input": [
      "polynomial_X.shape"
     ],
     "language": "python",
     "metadata": {},
     "outputs": [
      {
       "metadata": {},
       "output_type": "pyout",
       "prompt_number": 13,
       "text": [
        "(30, 2)"
       ]
      }
     ],
     "prompt_number": 13
    },
    {
     "cell_type": "code",
     "collapsed": false,
     "input": [
      "X[:, np.newaxis].shape"
     ],
     "language": "python",
     "metadata": {},
     "outputs": [
      {
       "metadata": {},
       "output_type": "pyout",
       "prompt_number": 14,
       "text": [
        "(30, 1)"
       ]
      }
     ],
     "prompt_number": 14
    },
    {
     "cell_type": "markdown",
     "metadata": {},
     "source": [
      "Let's take a closer look at what is inside `polynomial_X`."
     ]
    },
    {
     "cell_type": "code",
     "collapsed": false,
     "input": [
      "polynomial_X"
     ],
     "language": "python",
     "metadata": {},
     "outputs": [
      {
       "metadata": {},
       "output_type": "pyout",
       "prompt_number": 15,
       "text": [
        "array([[ 1.        ,  0.5488135 ],\n",
        "       [ 1.        ,  0.71518937],\n",
        "       [ 1.        ,  0.60276338],\n",
        "       [ 1.        ,  0.54488318],\n",
        "       [ 1.        ,  0.4236548 ],\n",
        "       [ 1.        ,  0.64589411],\n",
        "       [ 1.        ,  0.43758721],\n",
        "       [ 1.        ,  0.891773  ],\n",
        "       [ 1.        ,  0.96366276],\n",
        "       [ 1.        ,  0.38344152],\n",
        "       [ 1.        ,  0.79172504],\n",
        "       [ 1.        ,  0.52889492],\n",
        "       [ 1.        ,  0.56804456],\n",
        "       [ 1.        ,  0.92559664],\n",
        "       [ 1.        ,  0.07103606],\n",
        "       [ 1.        ,  0.0871293 ],\n",
        "       [ 1.        ,  0.0202184 ],\n",
        "       [ 1.        ,  0.83261985],\n",
        "       [ 1.        ,  0.77815675],\n",
        "       [ 1.        ,  0.87001215],\n",
        "       [ 1.        ,  0.97861834],\n",
        "       [ 1.        ,  0.79915856],\n",
        "       [ 1.        ,  0.46147936],\n",
        "       [ 1.        ,  0.78052918],\n",
        "       [ 1.        ,  0.11827443],\n",
        "       [ 1.        ,  0.63992102],\n",
        "       [ 1.        ,  0.14335329],\n",
        "       [ 1.        ,  0.94466892],\n",
        "       [ 1.        ,  0.52184832],\n",
        "       [ 1.        ,  0.41466194]])"
       ]
      }
     ],
     "prompt_number": 15
    },
    {
     "cell_type": "markdown",
     "metadata": {},
     "source": [
      "By default, `PolynomialFeatures` adds a constant term equal to 1. It corresponds to the intercept (or degree 0) of the model we are training."
     ]
    },
    {
     "cell_type": "markdown",
     "metadata": {},
     "source": [
      "Let's now define another linear regression and train it on the augmented features $\\phi(x) = \\left[1, x, x^2\\right]$."
     ]
    },
    {
     "cell_type": "code",
     "collapsed": false,
     "input": [
      "linear_regression = LinearRegression()\n",
      "polynomial_features = PolynomialFeatures(degree=2)\n",
      "polynomial_X = polynomial_features.fit_transform(X[:, np.newaxis])\n",
      "my_regression = linear_regression.fit(polynomial_X, y)"
     ],
     "language": "python",
     "metadata": {},
     "outputs": [],
     "prompt_number": 16
    },
    {
     "cell_type": "markdown",
     "metadata": {},
     "source": [
      "And display the result:"
     ]
    },
    {
     "cell_type": "code",
     "collapsed": false,
     "input": [
      "X_test = np.linspace(0, 1, 100)\n",
      "polynomial_X_test = polynomial_features.fit_transform(X_test[:, np.newaxis])\n",
      "plt.plot(X_test, my_regression.predict(polynomial_X_test), label=\"Model\")\n",
      "plt.plot(X_test, my_function(X_test), label=\"True function\")\n",
      "plt.scatter(X, y, label=\"Samples\")\n",
      "plt.xlabel(\"x\")\n",
      "plt.ylabel(\"y\")\n",
      "plt.xlim((0, 1))\n",
      "plt.ylim((-2, 2))\n",
      "plt.legend(loc=\"best\")"
     ],
     "language": "python",
     "metadata": {},
     "outputs": [
      {
       "metadata": {},
       "output_type": "pyout",
       "prompt_number": 17,
       "text": [
        "<matplotlib.legend.Legend at 0x7ff295ce9c10>"
       ]
      },
      {
       "metadata": {},
       "output_type": "display_data",
       "png": "[encoded data removed]",
       "text": [
        "<matplotlib.figure.Figure at 0x7ff295e4e210>"
       ]
      }
     ],
     "prompt_number": 17
    },
    {
     "cell_type": "markdown",
     "metadata": {},
     "source": [
      "(Note that we need to apply $\\phi$ to `X_test` because `my_regression` has been trained on polynomial features!).\n",
      "\n",
      "As we can see, a second order kernel gives a much better fit than a simple linear regression."
     ]
    },
    {
     "cell_type": "markdown",
     "metadata": {},
     "source": [
      "## Putting everything together with pipelines\n",
      "\n",
      "So far, our regression consists of 2 different steps:\n",
      "- A polynomial transformation on `X` which returns `polynomial_X`\n",
      "- A linear regression on `polynomial_X` and `y`\n",
      "\n",
      "It is possible to write this in a more compact way with a `Pipeline` object, as the following:"
     ]
    },
    {
     "cell_type": "code",
     "collapsed": false,
     "input": [
      "from sklearn.pipeline import Pipeline\n",
      "from sklearn.cross_validation import cross_val_score\n",
      "\n",
      "degrees = [1, 4, 15]\n",
      "plt.figure(figsize=(14, 5))\n",
      "\n",
      "for i in range(len(degrees)):\n",
      "    ax = plt.subplot(1, len(degrees), i + 1)\n",
      "    plt.setp(ax, xticks=(), yticks=())\n",
      "\n",
      "    polynomial_features = PolynomialFeatures(degree=degrees[i])\n",
      "    linear_regression = LinearRegression()\n",
      "    pipeline = Pipeline([(\"polynomial_features\", polynomial_features),\n",
      "                         (\"linear_regression\", linear_regression)])\n",
      "    pipeline.fit(X[:, np.newaxis], y)\n",
      "\n",
      "    # Evaluate the models using crossvalidation\n",
      "    scores = cross_val_score(pipeline, X[:, np.newaxis], y,\n",
      "                             scoring=\"mean_squared_error\", cv=10)\n",
      "\n",
      "    X_test = np.linspace(0, 1, 100)\n",
      "    plt.plot(X_test, pipeline.predict(X_test[:, np.newaxis]), label=\"Model\")\n",
      "    plt.plot(X_test, my_function(X_test), label=\"True function\")\n",
      "    plt.scatter(X, y, label=\"Samples\")\n",
      "    plt.xlabel(\"x\")\n",
      "    plt.ylabel(\"y\")\n",
      "    plt.xlim((0, 1))\n",
      "    plt.ylim((-2, 2))\n",
      "    plt.legend(loc=\"best\")\n",
      "    plt.title(\"Degree {}\\nMSE = {:.2e}(+/- {:.2e})\".format(\n",
      "        degrees[i], -scores.mean(), scores.std()))\n",
      "plt.show()"
     ],
     "language": "python",
     "metadata": {},
     "outputs": [
      {
       "metadata": {},
       "output_type": "display_data",
       "png": "[encoded data removed]",
       "text": [
        "<matplotlib.figure.Figure at 0x7ff295cb8850>"
       ]
      }
     ],
     "prompt_number": 18
    },
    {
     "cell_type": "markdown",
     "metadata": {},
     "source": [
      "# Regularizing the linear regression\n",
      "The Linear regression we have been working with solves the following problem:\n",
      "$$\\min_w \\sum_i \\left(w^T \\phi\\left(x^{(i)}\\right) - y^{(i)}\\right)^2$$\n",
      "\n",
      "We can add a regularization term to the optimization problem in order to penalise big coefficients in $w$ and avoid overfitting as a consequence:\n",
      "$$\\min_w \\sum_i \\left(w^T \\phi\\left(x^{(i)}\\right) - y^{(i)}\\right)^2 + \\alpha ||w||_2^2$$\n",
      "\n",
      "Note that this leads to adding an extra parameter, $\\alpha$, to the model. As we will see in the following, this parameter has a big impact on how much we overfit or underfit the training data."
     ]
    },
    {
     "cell_type": "code",
     "collapsed": false,
     "input": [
      "from sklearn.linear_model import Ridge"
     ],
     "language": "python",
     "metadata": {},
     "outputs": [],
     "prompt_number": 19
    },
    {
     "cell_type": "code",
     "collapsed": false,
     "input": [
      "polynomial_features = PolynomialFeatures(degree=15)\n",
      "polynomial_X = polynomial_features.fit_transform(X[:, np.newaxis])\n",
      "\n",
      "ridge_regression = Ridge(alpha = .1)\n",
      "my_regression = ridge_regression.fit(polynomial_X, y)"
     ],
     "language": "python",
     "metadata": {},
     "outputs": [],
     "prompt_number": 20
    },
    {
     "cell_type": "code",
     "collapsed": false,
     "input": [
      "X_test = np.linspace(0, 1, 100)\n",
      "X_test_polynomial = polynomial_features.fit_transform(X_test[:, np.newaxis])\n",
      "plt.plot(X_test, my_regression.predict(X_test_polynomial), label=\"Model\")\n",
      "plt.plot(X_test, my_function(X_test), label=\"True function\")\n",
      "plt.scatter(X, y, label=\"Samples\")\n",
      "plt.xlabel(\"x\")\n",
      "plt.ylabel(\"y\")\n",
      "plt.xlim((0, 1))\n",
      "plt.ylim((-2, 2))\n",
      "plt.legend(loc=\"best\")\n",
      "plt.title(\"Ridge regression\")"
     ],
     "language": "python",
     "metadata": {},
     "outputs": [
      {
       "metadata": {},
       "output_type": "pyout",
       "prompt_number": 21,
       "text": [
        "<matplotlib.text.Text at 0x7ff295975810>"
       ]
      },
      {
       "metadata": {},
       "output_type": "display_data",
       "png": "[encoded data removed]",
       "text": [
        "<matplotlib.figure.Figure at 0x7ff295d25210>"
       ]
      }
     ],
     "prompt_number": 21
    },
    {
     "cell_type": "markdown",
     "metadata": {},
     "source": [
      "### Support vector regression\n",
      "Support vector regression (`sklearn.svm.SVR` in sklearn) is another way to train a regression model. The difference with the linear regression with least squares we have used previously is in the loss function:\n",
      "$$\\min_w \\sum_i \\ell \\left(w^T \\phi\\left(x^{(i)}\\right), y^{(i)}\\right)$$\n",
      "For ordinary least squares, we had \n",
      "$$\\ell \\left(w^T \\phi\\left(x^{(i)}\\right), y^{(i)}\\right) = \\left(w^T \\phi\\left(x^{(i)}\\right) - y^{(i)}\\right)^2.$$ For SVR, we have\n",
      "$$\\ell \\left(w^T \\phi\\left(x^{(i)}\\right), y^{(i)}\\right) = \n",
      "\\begin{cases}\n",
      "    0,& \\text{if } -\\epsilon \\leq w^T \\phi\\left(x\\right) - y \\leq +\\epsilon\\\\\n",
      "    \\left| w^T \\phi\\left(x\\right) - y\u00a0\\right| - \\epsilon,              & \\text{otherwise}\n",
      "\\end{cases}.\n",
      "$$\n",
      "Having this in mind, we can apply SVR by chosing an apprioriate value for $\\epsilon$."
     ]
    },
    {
     "cell_type": "code",
     "collapsed": false,
     "input": [
      "from sklearn.svm import SVR"
     ],
     "language": "python",
     "metadata": {},
     "outputs": [],
     "prompt_number": 22
    },
    {
     "cell_type": "code",
     "collapsed": false,
     "input": [
      "epsilon = .1\n",
      "sv_regression = SVR(epsilon = epsilon)\n",
      "my_svr = sv_regression.fit(polynomial_X, y)"
     ],
     "language": "python",
     "metadata": {},
     "outputs": [],
     "prompt_number": 23
    },
    {
     "cell_type": "markdown",
     "metadata": {},
     "source": [
      "Note that chosing $\\epsilon$ with an order of magnitude close to the estimated noise makes sense because we would not penalize errors smaller than the noise."
     ]
    },
    {
     "cell_type": "code",
     "collapsed": false,
     "input": [
      "plt.plot(X_test, my_regression.predict(X_test_polynomial), label=\"Model\")\n",
      "plt.plot(X_test, my_function(X_test), label=\"True function\")\n",
      "plt.scatter(X, y, label=\"Samples\")\n",
      "plt.xlabel(\"x\")\n",
      "plt.ylabel(\"y\")\n",
      "plt.xlim((0, 1))\n",
      "plt.ylim((-2, 2))\n",
      "plt.legend(loc=\"best\")\n",
      "plt.title(\"Support vector regression\")"
     ],
     "language": "python",
     "metadata": {},
     "outputs": [
      {
       "metadata": {},
       "output_type": "pyout",
       "prompt_number": 24,
       "text": [
        "<matplotlib.text.Text at 0x7ff2959e3150>"
       ]
      },
      {
       "metadata": {},
       "output_type": "display_data",
       "png": "[encoded data removed]",
       "text": [
        "<matplotlib.figure.Figure at 0x7ff295d25ed0>"
       ]
      }
     ],
     "prompt_number": 24
    },
    {
     "cell_type": "markdown",
     "metadata": {},
     "source": [
      "## Applying regression to standard datasets\n",
      "As for classification, sklearn proposes standard datasets to evaluate models. These datasets can be found here: http://scikit-learn.org/stable/datasets/.\n",
      "Two dataset are suited for regression problem:\n",
      "- The Boston house-prices dataset\n",
      "- diabetes dataset"
     ]
    },
    {
     "cell_type": "code",
     "collapsed": true,
     "input": [
      "from sklearn import datasets\n",
      "boston = datasets.load_boston()"
     ],
     "language": "python",
     "metadata": {},
     "outputs": [],
     "prompt_number": 25
    },
    {
     "cell_type": "code",
     "collapsed": false,
     "input": [
      "print boston.DESCR"
     ],
     "language": "python",
     "metadata": {},
     "outputs": [
      {
       "output_type": "stream",
       "stream": "stdout",
       "text": [
        "Boston House Prices dataset\n",
        "\n",
        "Notes\n",
        "------\n",
        "Data Set Characteristics:  \n",
        "\n",
        "    :Number of Instances: 506 \n",
        "\n",
        "    :Number of Attributes: 13 numeric/categorical predictive\n",
        "    \n",
        "    :Median Value (attribute 14) is usually the target\n",
        "\n",
        "    :Attribute Information (in order):\n",
        "        - CRIM     per capita crime rate by town\n",
        "        - ZN       proportion of residential land zoned for lots over 25,000 sq.ft.\n",
        "        - INDUS    proportion of non-retail business acres per town\n",
        "        - CHAS     Charles River dummy variable (= 1 if tract bounds river; 0 otherwise)\n",
        "        - NOX      nitric oxides concentration (parts per 10 million)\n",
        "        - RM       average number of rooms per dwelling\n",
        "        - AGE      proportion of owner-occupied units built prior to 1940\n",
        "        - DIS      weighted distances to five Boston employment centres\n",
        "        - RAD      index of accessibility to radial highways\n",
        "        - TAX      full-value property-tax rate per $10,000\n",
        "        - PTRATIO  pupil-teacher ratio by town\n",
        "        - B        1000(Bk - 0.63)^2 where Bk is the proportion of blacks by town\n",
        "        - LSTAT    % lower status of the population\n",
        "        - MEDV     Median value of owner-occupied homes in $1000's\n",
        "\n",
        "    :Missing Attribute Values: None\n",
        "\n",
        "    :Creator: Harrison, D. and Rubinfeld, D.L.\n",
        "\n",
        "This is a copy of UCI ML housing dataset.\n",
        "http://archive.ics.uci.edu/ml/datasets/Housing\n",
        "\n",
        "\n",
        "This dataset was taken from the StatLib library which is maintained at Carnegie Mellon University.\n",
        "\n",
        "The Boston house-price data of Harrison, D. and Rubinfeld, D.L. 'Hedonic\n",
        "prices and the demand for clean air', J. Environ. Economics & Management,\n",
        "vol.5, 81-102, 1978.   Used in Belsley, Kuh & Welsch, 'Regression diagnostics\n",
        "...', Wiley, 1980.   N.B. Various transformations are used in the table on\n",
        "pages 244-261 of the latter.\n",
        "\n",
        "The Boston house-price data has been used in many machine learning papers that address regression\n",
        "problems.   \n",
        "     \n",
        "**References**\n",
        "\n",
        "   - Belsley, Kuh & Welsch, 'Regression diagnostics: Identifying Influential Data and Sources of Collinearity', Wiley, 1980. 244-261.\n",
        "   - Quinlan,R. (1993). Combining Instance-Based and Model-Based Learning. In Proceedings on the Tenth International Conference of Machine Learning, 236-243, University of Massachusetts, Amherst. Morgan Kaufmann.\n",
        "   - many more! (see http://archive.ics.uci.edu/ml/datasets/Housing)\n",
        "\n"
       ]
      }
     ],
     "prompt_number": 26
    },
    {
     "cell_type": "code",
     "collapsed": false,
     "input": [
      "boston.feature_names"
     ],
     "language": "python",
     "metadata": {},
     "outputs": [
      {
       "metadata": {},
       "output_type": "pyout",
       "prompt_number": 27,
       "text": [
        "array(['CRIM', 'ZN', 'INDUS', 'CHAS', 'NOX', 'RM', 'AGE', 'DIS', 'RAD',\n",
        "       'TAX', 'PTRATIO', 'B', 'LSTAT'], \n",
        "      dtype='|S7')"
       ]
      }
     ],
     "prompt_number": 27
    },
    {
     "cell_type": "code",
     "collapsed": false,
     "input": [
      "print boston.data.shape, boston.target.shape"
     ],
     "language": "python",
     "metadata": {},
     "outputs": [
      {
       "output_type": "stream",
       "stream": "stdout",
       "text": [
        "(506, 13) (506,)\n"
       ]
      }
     ],
     "prompt_number": 28
    },
    {
     "cell_type": "code",
     "collapsed": false,
     "input": [
      "polynomial_features = PolynomialFeatures(degree=3)\n",
      "polynomial_X = polynomial_features.fit_transform(boston.data)\n",
      "\n",
      "alpha = .1\n",
      "ridge_regression = Ridge(alpha = alpha)\n",
      "my_regression = ridge_regression.fit(polynomial_X, boston.target)"
     ],
     "language": "python",
     "metadata": {},
     "outputs": [
      {
       "output_type": "stream",
       "stream": "stderr",
       "text": [
        "/usr/lib/python2.7/dist-packages/sklearn/linear_model/ridge.py:154: UserWarning: Singular matrix in solving dual problem. Using least-squares solution instead.\n",
        "  warnings.warn(\"Singular matrix in solving dual problem. Using \"\n"
       ]
      }
     ],
     "prompt_number": 29
    },
    {
     "cell_type": "code",
     "collapsed": true,
     "input": [
      "predicted_prices = my_regression.predict(polynomial_X)"
     ],
     "language": "python",
     "metadata": {},
     "outputs": [],
     "prompt_number": 30
    },
    {
     "cell_type": "code",
     "collapsed": false,
     "input": [
      "predicted_prices"
     ],
     "language": "python",
     "metadata": {
      "scrolled": true
     },
     "outputs": [
      {
       "metadata": {},
       "output_type": "pyout",
       "prompt_number": 31,
       "text": [
        "array([ 26.36704219,  19.55198776,  29.91913025,  27.58576051,\n",
        "        30.20720795,  22.45225765,  20.51734097,  23.38970339,\n",
        "        11.03211485,  22.37648014,  22.06518311,  20.62910928,\n",
        "        18.09680136,  18.66638972,  18.83215006,  19.03623538,\n",
        "        25.99380016,  16.61780972,  21.42860504,  16.79217152,\n",
        "        12.53882666,  16.55622058,  13.57093328,  13.85465875,\n",
        "        16.23855154,  20.1153093 ,  17.68897276,  18.23456513,\n",
        "        18.91680237,  19.91264716,  13.06662599,  19.28156197,\n",
        "        10.47224167,  14.46123079,   8.53410475,  21.76252314,\n",
        "        21.96864363,  23.64630343,  27.36457736,  29.96648856,\n",
        "        29.82212581,  28.81710074,  24.38096567,  24.84590611,\n",
        "        21.51211765,  19.30458635,  20.52834177,  19.85501932,\n",
        "        15.80274397,  19.81995932,  20.45155669,  19.30233042,\n",
        "        23.62092475,  19.68076685,  19.84001308,  40.19854078,\n",
        "        28.42698782,  33.49547267,  20.85081092,  19.53438047,\n",
        "        20.66694248,  17.52711668,  18.0950959 ,  31.56429407,\n",
        "        32.61111729,  22.42930182,  19.19917424,  22.53158226,\n",
        "        17.77150707,  19.25710535,  22.22553885,  19.64279456,\n",
        "        25.85162283,  20.43572433,  23.6994007 ,  20.53025712,\n",
        "        22.35483333,  19.90255911,  17.27248355,  20.22464258,\n",
        "        28.71132788,  22.98245278,  24.815175  ,  21.96741591,\n",
        "        24.06181907,  26.94648309,  22.60981834,  24.67319218,\n",
        "        24.09112103,  27.77418972,  22.56045025,  21.39078454,\n",
        "        27.0066481 ,  29.54616545,  20.74156638,  29.53277916,\n",
        "        21.20939569,  38.2077444 ,  46.62396996,  33.13025645,\n",
        "        22.91350695,  25.88604717,  19.03540211,  18.91440436,\n",
        "        19.76906891,  18.10157533,  17.58074362,  19.32854068,\n",
        "        19.21386449,  17.3904531 ,  24.62349015,  21.8864836 ,\n",
        "        20.46606068,  20.97897163,  20.79933097,  21.98129364,\n",
        "        19.82830182,  18.6517876 ,  24.07924303,  19.72612283,\n",
        "        18.48673605,  23.47035991,  19.59837366,  18.556496  ,\n",
        "        18.88300629,  20.61314945,  16.03029084,  19.96227383,\n",
        "        17.86863877,  14.82564091,  21.24434191,  18.49042144,\n",
        "        21.17763234,  20.80074949,  17.51306806,  15.66433375,\n",
        "        16.71242835,  18.37449734,  17.10775931,  14.18647509,\n",
        "         7.73574424,  14.94110025,  14.8542705 ,  12.35472108,\n",
        "        14.61248514,  16.49249894,  16.29897448,  15.52704315,\n",
        "        20.12620984,  17.60131469,  16.47548295,  16.32204993,\n",
        "        16.84586859,  21.32617572,  15.80239511,  15.53477577,\n",
        "        13.97336421,  37.99221425,  28.36481514,  19.38895885,\n",
        "        26.43699258,  54.92120606,  46.78435948,  55.42375016,\n",
        "        20.90814063,  20.45109069,  50.65047743,  18.75013301,\n",
        "        22.58065256,  24.50266875,  16.76205891,  21.09781134,\n",
        "        24.1451902 ,  27.03338715,  24.29225659,  33.61516257,\n",
        "        24.58070941,  23.051935  ,  29.74484335,  42.08147397,\n",
        "        39.86096826,  29.48496045,  41.87204265,  38.07404471,\n",
        "        19.72933788,  23.11653717,  52.27192459,  26.38849166,\n",
        "        31.35524259,  33.09054459,  36.89281967,  26.19244596,\n",
        "        36.53854235,  33.87684335,  32.68357887,  45.67963857,\n",
        "        29.37311731,  28.14928792,  34.25377497,  35.33946144,\n",
        "        32.37601706,  31.58282496,  39.0519933 ,  46.74215499,\n",
        "        42.6985579 ,  21.62650268,  24.58943626,  21.38606179,\n",
        "        25.3386259 ,  21.23118577,  23.90793395,  19.72216505,\n",
        "        24.02675912,  26.20745153,  24.65602372,  24.6906656 ,\n",
        "        22.20191208,  26.2949815 ,  18.61452598,  17.20740619,\n",
        "        27.3599444 ,  18.44531784,  29.67503449,  27.53399214,\n",
        "        45.19565933,  47.79567368,  40.83495968,  31.67007564,\n",
        "        38.71539683,  30.79726985,  21.14942792,  32.52359445,\n",
        "        44.0821268 ,  41.9634919 ,  27.15436374,  21.9915955 ,\n",
        "        26.80435991,  30.31241042,  28.73353849,  26.71888465,\n",
        "        27.885249  ,  18.70545409,  23.84118874,  30.34908201,\n",
        "        14.72179165,  17.90676819,  23.07028337,  16.99031433,\n",
        "        24.90388339,  27.58144926,  25.57689896,  24.31926499,\n",
        "        25.43655419,  43.30099111,  20.11161019,  13.36291195,\n",
        "        46.84473721,  48.7045751 ,  33.73001243,  30.35387624,\n",
        "        39.01406875,  38.60636788,  42.89701667,  33.57870175,\n",
        "        36.87253502,  22.9800227 ,  33.03786713,  57.17510073,\n",
        "        47.20297717,  20.49046633,  13.72898013,  25.56077935,\n",
        "        24.48554966,  38.42701495,  28.95341489,  26.81696409,\n",
        "        33.25989303,  28.17279214,  25.45200896,  34.67399049,\n",
        "        43.25977243,  32.17795783,  50.31476165,  52.2280544 ,\n",
        "        37.83941997,  24.99668409,  15.54947949,  20.33080401,\n",
        "        20.69664116,  25.58592666,  29.85688681,  40.78448041,\n",
        "        30.78311919,  20.02381963,  22.82958548,  31.31973913,\n",
        "        30.39377256,  23.29614987,  22.0533921 ,  33.10135004,\n",
        "        22.8404539 ,  20.95001802,  24.59419067,  35.20580424,\n",
        "        34.74936255,  28.36399469,  34.92271743,  30.35838917,\n",
        "        26.01887832,  20.15536634,  14.22736838,  29.07626965,\n",
        "        20.44870396,  21.79695147,  22.29256783,  16.94668179,\n",
        "        20.84135314,  19.03621287,  22.55983703,  20.31121603,\n",
        "        23.58882233,  23.09194053,  20.69503749,  17.97288499,\n",
        "        24.14274579,  24.43376603,  22.49084862,  22.91250251,\n",
        "        18.96962288,  24.32842171,  17.7363512 ,  11.97249271,\n",
        "        21.44007529,  22.27030626,  23.57908829,  23.08824632,\n",
        "        21.22664309,  20.99701043,  23.49240114,  22.25657686,\n",
        "        20.98068461,  36.44318325,  13.01180267,  25.81971298,\n",
        "        31.95505329,  17.93839128,  22.80642778,  25.54143666,\n",
        "        28.96367549,  30.84345891,  20.81208571,  25.99607748,\n",
        "        20.64962589,  28.9766028 ,  14.66814344,  17.27855892,\n",
        "        12.82433487,  24.91863323,  20.24068725,  20.8845758 ,\n",
        "        22.7595527 ,  17.85479508,  16.89134136,  27.4929414 ,\n",
        "        22.3140136 ,  28.2207969 ,  18.82005039,  24.87873414,\n",
        "        48.70863249,  51.67523845,  50.89163515,  43.16673221,\n",
        "        39.75807406,  12.79482542,  13.10179554,  21.62630533,\n",
        "         9.05164495,  13.449664  ,   4.91428818,  10.64105895,\n",
        "        10.22480676,  11.52624313,  11.77290322,  11.77557467,\n",
        "         8.92697748,   6.52615696,   8.10966868,   3.89889291,\n",
        "        11.93771526,  13.8000838 ,  16.02140849,  17.76737724,\n",
        "        12.32399857,  19.70482642,  14.82504462,  17.7746282 ,\n",
        "        15.47283356,  14.77764258,   9.65071104,   9.84481191,\n",
        "         4.62554796,  12.0929016 ,  14.31884042,   5.95967385,\n",
        "        13.61623298,   4.09582305,  17.11591505,  30.10446318,\n",
        "        16.5766646 ,  23.3690729 ,  14.11857593,  15.71927753,\n",
        "        15.8456689 ,  16.40998332,   6.48178448,   5.62355957,\n",
        "         8.59142834,   5.60577499,   9.32404811,   6.68714032,\n",
        "        18.28966575,  17.53882532,  18.69735547,  17.17511537,\n",
        "        13.30049189,  12.18397617,   5.22799535,  11.10730796,\n",
        "        14.98092407,  11.36868086,  18.1460769 ,  18.39129384,\n",
        "        15.3818608 ,  13.48904312,  14.58480358,  11.63334546,\n",
        "        11.83835721,   5.97761695,  12.85804999,  11.70156877,\n",
        "         5.39699956,  12.20824732,  15.29530412,  12.73923075,\n",
        "        10.8005029 ,   5.27266507,  15.67547174,  13.08520456,\n",
        "        12.24035574,  14.81861647,  10.72555385,  16.33759794,\n",
        "        16.65052869,  19.2465996 ,  14.21769472,  14.29214106,\n",
        "        13.17065047,  13.64502996,  13.09725231,  17.46587771,\n",
        "        18.38902089,  20.05650994,  18.70837834,  20.89303485,\n",
        "        21.37709862,  21.49266527,  17.33579026,  14.55441388,\n",
        "        14.99214249,  24.17884821,  17.55810494,  19.39530281,\n",
        "        21.82109969,  24.87350621,  14.02004885,  14.21941555,\n",
        "        16.18102219,  10.29174728,  15.39040754,  21.36744092,\n",
        "        22.17668332,  27.74124762,  30.14243635,  21.79826667,\n",
        "        20.15783298,  19.23012671,  15.86167465,  24.90846543,\n",
        "        13.57155475,   8.30067153,   6.79851764,  11.34744476,\n",
        "        23.49154377,  21.50535665,  22.94479062,  26.80833424,\n",
        "        20.32038881,  17.12252954,  18.42301886,  17.40526668,\n",
        "        16.80326753,  22.52990716,  16.97306349,  23.26894376,\n",
        "        21.09055205,  16.01534743])"
       ]
      }
     ],
     "prompt_number": 31
    },
    {
     "cell_type": "code",
     "collapsed": true,
     "input": [
      "from sklearn.cross_validation import train_test_split\n",
      "features_train, features_test, labels_train, labels_test = train_test_split(polynomial_X, boston.target, test_size = 0.5)"
     ],
     "language": "python",
     "metadata": {},
     "outputs": [],
     "prompt_number": 32
    },
    {
     "cell_type": "code",
     "collapsed": false,
     "input": [
      "print features_train.shape, features_test.shape, labels_train.shape, labels_test.shape"
     ],
     "language": "python",
     "metadata": {},
     "outputs": [
      {
       "output_type": "stream",
       "stream": "stdout",
       "text": [
        "(253, 560) (253, 560) (253,) (253,)\n"
       ]
      }
     ],
     "prompt_number": 33
    },
    {
     "cell_type": "code",
     "collapsed": false,
     "input": [
      "from sklearn import metrics"
     ],
     "language": "python",
     "metadata": {},
     "outputs": [],
     "prompt_number": 34
    },
    {
     "cell_type": "code",
     "collapsed": false,
     "input": [
      "predicted_labels_train = my_regression.predict(features_train)\n",
      "print \"MSE on the train set: \", metrics.mean_squared_error(labels_train, predicted_labels_train)\n",
      "predicted_labels_test = my_regression.predict(features_test)\n",
      "print \"MSE on the test set: \", metrics.mean_squared_error(labels_test, predicted_labels_test)"
     ],
     "language": "python",
     "metadata": {},
     "outputs": [
      {
       "output_type": "stream",
       "stream": "stdout",
       "text": [
        "MSE on the train set:  8.46967866345\n",
        "MSE on the test set:  8.89644223918\n"
       ]
      }
     ],
     "prompt_number": 35
    },
    {
     "cell_type": "markdown",
     "metadata": {},
     "source": [
      "Feel free to tune the parameters manually and see which one gives the best results."
     ]
    }
   ],
   "metadata": {}
  }
 ]
}